{
 "cells": [
  {
   "cell_type": "markdown",
   "id": "3fbd3a17-0279-4832-abea-6098762abba2",
   "metadata": {},
   "source": [
    "# Hashing in Java\n",
    "\n",
    "In Java, hashing is frequently used to get data as quick as possible, where the data is **unique**.\n",
    "\n",
    "It is, in some cases, are better than use the pure array for data accessing.\n",
    "\n",
    "There are two types of hashing\n",
    "* `HashMap` - useful when you have a key and a data. Useful for in case of get state in unique.\n",
    "* `HashSet` - useful when you have series of data that do not care about duplication.\n"
   ]
  },
  {
   "cell_type": "markdown",
   "id": "12a86bb3-f58a-499d-b7e7-150e90489c8a",
   "metadata": {},
   "source": [
    "## `HashMap`\n",
    "\n",
    "* `put(<key>, <value>)` - add new item as key and value\n",
    "* `get(<key>)` - get value by its key. Returns `null` when not found\n",
    "* `remove(<key>)` - remove an item from a `HashMap`\n",
    "* `clear()` - remove **all** items in `HashMap`\n",
    "* `size()` - get the size of `HashMap`\n",
    "\n",
    "Impleting a `HashMap`, where the data is about the countries 2-letter name (as the key) and its actual name (as the value)\n"
   ]
  },
  {
   "cell_type": "code",
   "execution_count": 1,
   "id": "250cc6b6-6545-400e-bd24-35cee93c7f3b",
   "metadata": {},
   "outputs": [],
   "source": [
    "HashMap<String, String> countries = new HashMap<>();"
   ]
  },
  {
   "cell_type": "code",
   "execution_count": 2,
   "id": "fda2dfc1-0ba6-45a4-b5f3-a48ed702c0a3",
   "metadata": {},
   "outputs": [],
   "source": [
    "countries.put(\"US\", \"United States\");\n",
    "countries.put(\"VN\", \"Vietnam\");\n",
    "countries.put(\"NL\", \"Netherlands\");"
   ]
  },
  {
   "cell_type": "code",
   "execution_count": 3,
   "id": "b5b163c9-2f0b-4e57-901a-b63f5ac61098",
   "metadata": {},
   "outputs": [
    {
     "data": {
      "text/plain": [
       "Vietnam"
      ]
     },
     "execution_count": 3,
     "metadata": {},
     "output_type": "execute_result"
    }
   ],
   "source": [
    "countries.get(\"VN\");"
   ]
  },
  {
   "cell_type": "code",
   "execution_count": 4,
   "id": "d0930329-d86e-4c22-9759-cfa46fb49c26",
   "metadata": {},
   "outputs": [
    {
     "data": {
      "text/plain": [
       "3"
      ]
     },
     "execution_count": 4,
     "metadata": {},
     "output_type": "execute_result"
    }
   ],
   "source": [
    "countries.size();"
   ]
  },
  {
   "cell_type": "code",
   "execution_count": 5,
   "id": "eb4b2eb2-a3b8-4d43-a604-9cd44876d7b6",
   "metadata": {},
   "outputs": [],
   "source": [
    "countries.remove(\"FR\"); // does nothing"
   ]
  },
  {
   "cell_type": "markdown",
   "id": "b4403d32-0c85-4902-b3d2-59e75e21c9e0",
   "metadata": {},
   "source": [
    "### Iteration through `HashMap`\n",
    "\n",
    "For each pair of key-value, `getKey()` is for the key, and `getValue()` is to get value\n"
   ]
  },
  {
   "cell_type": "code",
   "execution_count": 6,
   "id": "6275a526-dcd9-45ae-bb6e-098947a2c3f4",
   "metadata": {},
   "outputs": [
    {
     "name": "stdout",
     "output_type": "stream",
     "text": [
      "VN: Vietnam\n",
      "US: United States\n",
      "NL: Netherlands\n"
     ]
    }
   ],
   "source": [
    "for (HashMap.Entry<String, String> i : countries.entrySet()) {\n",
    "    System.out.println(i.getKey() + \": \" + i.getValue());\n",
    "}"
   ]
  },
  {
   "cell_type": "markdown",
   "id": "e3e72a13-68f1-4fd5-b8bf-589a813f8d88",
   "metadata": {},
   "source": [
    "## `HashSet`\n",
    "\n",
    "* `add(<value>)` - add new element. Does not do anything if add a duplicate\n",
    "* `contains(<value)` - checks if an element exists\n",
    "* `remove(<value>)` - remove an element\n",
    "* `clear()` - remove **all** elements in `HashSet`\n",
    "* `size()` get the size of `HashSet`\n"
   ]
  },
  {
   "cell_type": "code",
   "execution_count": 7,
   "id": "513d88a9-e579-4669-b663-fce30f099d74",
   "metadata": {},
   "outputs": [],
   "source": [
    "HashSet<String> names = new HashSet<>();"
   ]
  },
  {
   "cell_type": "code",
   "execution_count": 8,
   "id": "7022fe69-0c11-459e-9896-6f39cf6ea921",
   "metadata": {},
   "outputs": [
    {
     "data": {
      "text/plain": [
       "true"
      ]
     },
     "execution_count": 8,
     "metadata": {},
     "output_type": "execute_result"
    }
   ],
   "source": [
    "names.add(\"Alice\");\n",
    "names.add(\"Bob\");\n",
    "names.add(\"Charlie\");"
   ]
  },
  {
   "cell_type": "code",
   "execution_count": 9,
   "id": "54a5e252-94b8-4206-a8ab-10c36d0a019d",
   "metadata": {},
   "outputs": [
    {
     "data": {
      "text/plain": [
       "false"
      ]
     },
     "execution_count": 9,
     "metadata": {},
     "output_type": "execute_result"
    }
   ],
   "source": [
    "names.add(\"Alice\");"
   ]
  },
  {
   "cell_type": "code",
   "execution_count": 10,
   "id": "605d7c60-e1c0-47eb-b9ed-2c7a4b0b9dbc",
   "metadata": {},
   "outputs": [
    {
     "data": {
      "text/plain": [
       "true"
      ]
     },
     "execution_count": 10,
     "metadata": {},
     "output_type": "execute_result"
    }
   ],
   "source": [
    "names.contains(\"Bob\");"
   ]
  },
  {
   "cell_type": "code",
   "execution_count": 11,
   "id": "c197c004-097d-4356-8884-1dcb98814a5f",
   "metadata": {},
   "outputs": [
    {
     "data": {
      "text/plain": [
       "false"
      ]
     },
     "execution_count": 11,
     "metadata": {},
     "output_type": "execute_result"
    }
   ],
   "source": [
    "names.remove(\"Charlie\");\n",
    "names.contains(\"Charlie\");"
   ]
  },
  {
   "cell_type": "code",
   "execution_count": 12,
   "id": "9edaf74b-2b24-424b-afdf-174de6914852",
   "metadata": {},
   "outputs": [
    {
     "data": {
      "text/plain": [
       "2"
      ]
     },
     "execution_count": 12,
     "metadata": {},
     "output_type": "execute_result"
    }
   ],
   "source": [
    "names.size();"
   ]
  },
  {
   "cell_type": "code",
   "execution_count": 16,
   "id": "4c7e3693-3ecd-4776-911b-efaedf065fa2",
   "metadata": {},
   "outputs": [
    {
     "name": "stdout",
     "output_type": "stream",
     "text": [
      "Name: Bob\n",
      "Name: Alice\n"
     ]
    }
   ],
   "source": [
    "for (String i : names) {\n",
    "    System.out.println(\"Name: \" + i);\n",
    "}"
   ]
  }
 ],
 "metadata": {
  "kernelspec": {
   "display_name": "Java",
   "language": "java",
   "name": "java"
  },
  "language_info": {
   "codemirror_mode": "java",
   "file_extension": ".jshell",
   "mimetype": "text/x-java-source",
   "name": "Java",
   "pygments_lexer": "java",
   "version": "21.0.8+9-LTS"
  }
 },
 "nbformat": 4,
 "nbformat_minor": 5
}
