{
 "cells": [
  {
   "attachments": {
    "be686279-ad12-4346-a55d-08e1730361f1.png": {
     "image/png": "[encoded data removed]"
    }
   },
   "cell_type": "markdown",
   "id": "e6b7ae24-bf25-4108-94a1-7d5060acae74",
   "metadata": {},
   "source": [
    "# Breadth-First Search\n",
    "\n",
    "Breadth-First Search (BFS) is a graph traversal algorithm that explores a graph level by level. It starts at a designated source node, visits all its immediate neighbors, then all their unvisited neighbors, and so on. This systematic exploration makes BFS suitable for finding the shortest path in unweighted graphs and for various other graph-related problems\n",
    "\n",
    "![image.png](attachment:be686279-ad12-4346-a55d-08e1730361f1.png)"
   ]
  },
  {
   "cell_type": "code",
   "execution_count": null,
   "id": "e1e06cad-a1ec-4f7a-b0fd-d697c86969a2",
   "metadata": {},
   "outputs": [],
   "source": [
    "public class BFSGraph {\n",
    "\n",
    "    // Represents the graph using an adjacency list\n",
    "    private Map<Integer, List<Integer>> adjList;\n",
    "\n",
    "    public BFSGraph() {\n",
    "        adjList = new HashMap<>();\n",
    "    }\n",
    "\n",
    "    // Add a vertex to the graph\n",
    "    public void addVertex(int vertex) {\n",
    "        adjList.putIfAbsent(vertex, new ArrayList<>());\n",
    "    }\n",
    "\n",
    "    // Add an edge between two vertices\n",
    "    public void addEdge(int source, int destination) {\n",
    "        adjList.get(source).add(destination);\n",
    "        // For undirected graph, add the reverse edge as well\n",
    "        // adjList.get(destination).add(source);\n",
    "    }\n",
    "\n",
    "    public void bfs(int startNode) {\n",
    "        Queue<Integer> queue = new LinkedList<>();\n",
    "        Set<Integer> visited = new HashSet<>();\n",
    "\n",
    "        queue.offer(startNode); // Add the starting node to the queue\n",
    "        visited.add(startNode); // Mark it as visited\n",
    "\n",
    "        System.out.print(\"BFS Traversal starting from \" + startNode + \": \");\n",
    "\n",
    "        while (!queue.isEmpty()) {\n",
    "            int currentNode = queue.poll(); // Dequeue a node\n",
    "            System.out.print(currentNode + \" \"); // Process the node\n",
    "\n",
    "            // Get all neighbors of the current node\n",
    "            List<Integer> neighbors = adjList.getOrDefault(currentNode, new ArrayList<>());\n",
    "            for (int neighbor : neighbors) {\n",
    "                if (!visited.contains(neighbor)) {\n",
    "                    visited.add(neighbor); // Mark neighbor as visited\n",
    "                    queue.offer(neighbor); // Enqueue the neighbor\n",
    "                }\n",
    "            }\n",
    "        }\n",
    "        System.out.println();\n",
    "    }\n",
    "}"
   ]
  },
  {
   "cell_type": "code",
   "execution_count": null,
   "id": "018e7959-3af7-48af-bd6f-02f771299ae1",
   "metadata": {},
   "outputs": [],
   "source": [
    "BFSGraph graph = new BFSGraph();\n",
    "\n",
    "// Add vertices\n",
    "graph.addVertex(0);\n",
    "graph.addVertex(1);\n",
    "graph.addVertex(2);\n",
    "graph.addVertex(3);\n",
    "graph.addVertex(4);\n",
    "\n",
    "// Add edges (example for a directed graph)\n",
    "graph.addEdge(0, 1);\n",
    "graph.addEdge(0, 2);\n",
    "graph.addEdge(1, 2);\n",
    "graph.addEdge(1, 3);\n",
    "graph.addEdge(2, 4);\n",
    "graph.addEdge(3, 4);\n",
    "\n",
    "graph.bfs(0); // Perform BFS starting from node 0\n",
    "graph.bfs(1); // Perform BFS starting from node 1"
   ]
  }
 ],
 "metadata": {
  "kernelspec": {
   "display_name": "Java",
   "language": "java",
   "name": "java"
  },
  "language_info": {
   "codemirror_mode": "java",
   "file_extension": ".jshell",
   "mimetype": "text/x-java-source",
   "name": "Java",
   "pygments_lexer": "java",
   "version": "21.0.8+9-LTS"
  }
 },
 "nbformat": 4,
 "nbformat_minor": 5
}
