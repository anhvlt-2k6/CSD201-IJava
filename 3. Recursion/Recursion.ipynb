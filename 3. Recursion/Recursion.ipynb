{
 "cells": [
  {
   "cell_type": "markdown",
   "id": "c666146d-9bfc-4ade-9ee3-d56716a55ccf",
   "metadata": {},
   "source": [
    "# Recursion\n",
    "\n",
    "Considering the maximum number of recursive calls within the body of a single activation, there are 3 types of recursions.\n",
    "\n",
    "* Linear recursion: Only 1 recursive call (to itself) in side the recursive function (e.g. binary search).\n",
    "* Binary recursion: There exactly 2 recursive calls (to itself) in side the recursive function (e.g. Fibonacci number).\n",
    "* Multiple recursion: There are 3 or more recursive calls (to itself) in side the recursive function."
   ]
  }
 ],
 "metadata": {
  "kernelspec": {
   "display_name": "Java",
   "language": "java",
   "name": "java"
  },
  "language_info": {
   "codemirror_mode": "java",
   "file_extension": ".jshell",
   "mimetype": "text/x-java-source",
   "name": "Java",
   "pygments_lexer": "java",
   "version": "21.0.8+9-LTS"
  }
 },
 "nbformat": 4,
 "nbformat_minor": 5
}
