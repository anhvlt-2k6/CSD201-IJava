{
 "cells": [
  {
   "cell_type": "markdown",
   "id": "7c8f961e-59fc-4dbd-9cf1-c00f40d9dc82",
   "metadata": {},
   "source": [
    "# Array List\n",
    "\n",
    "An `ArrayList` is like a resizable array."
   ]
  },
  {
   "cell_type": "code",
   "execution_count": 1,
   "id": "92621bf5-61c0-438a-b0a7-bac5158c2168",
   "metadata": {},
   "outputs": [],
   "source": [
    "ArrayList<String> cars = new ArrayList<>();"
   ]
  },
  {
   "cell_type": "markdown",
   "id": "21d60fb2-b71d-4c98-b9f9-ce05eb8914ad",
   "metadata": {},
   "source": [
    "## Methods in Array List"
   ]
  },
  {
   "cell_type": "markdown",
   "id": "1dfd30d7-bf8f-428f-9f48-bf4f7f4b880d",
   "metadata": {},
   "source": [
    "### Add elements"
   ]
  },
  {
   "cell_type": "code",
   "execution_count": 9,
   "id": "b195743d-3645-42a1-975b-f15db9035be3",
   "metadata": {},
   "outputs": [
    {
     "data": {
      "text/plain": [
       "true"
      ]
     },
     "execution_count": 9,
     "metadata": {},
     "output_type": "execute_result"
    }
   ],
   "source": [
    "cars.add(\"Volvo\");\n",
    "cars.add(\"BMW\");\n",
    "cars.add(\"Ford\");"
   ]
  },
  {
   "cell_type": "code",
   "execution_count": 3,
   "id": "31ae90cf-6219-4130-a032-7cde793103be",
   "metadata": {},
   "outputs": [
    {
     "data": {
      "text/plain": [
       "[Volvo, BMW, Ford]"
      ]
     },
     "execution_count": 3,
     "metadata": {},
     "output_type": "execute_result"
    }
   ],
   "source": [
    "cars"
   ]
  },
  {
   "cell_type": "markdown",
   "id": "4e5e35e8-9e74-4984-b02f-c464da9ac672",
   "metadata": {},
   "source": [
    "## Access an element"
   ]
  },
  {
   "cell_type": "code",
   "execution_count": 4,
   "id": "436455f5-c22b-4cfb-b50b-688b55be69a2",
   "metadata": {},
   "outputs": [
    {
     "data": {
      "text/plain": [
       "Volvo"
      ]
     },
     "execution_count": 4,
     "metadata": {},
     "output_type": "execute_result"
    }
   ],
   "source": [
    "cars.get(0);"
   ]
  },
  {
   "cell_type": "markdown",
   "id": "cc2c8eb1-d371-4c71-8293-e8f16a7cabdb",
   "metadata": {},
   "source": [
    "## Change an element"
   ]
  },
  {
   "cell_type": "code",
   "execution_count": 5,
   "id": "68d07312-5685-4484-a072-fbcb19edc9db",
   "metadata": {},
   "outputs": [
    {
     "data": {
      "text/plain": [
       "Volvo"
      ]
     },
     "execution_count": 5,
     "metadata": {},
     "output_type": "execute_result"
    }
   ],
   "source": [
    "cars.set(0, \"Opel\");"
   ]
  },
  {
   "cell_type": "code",
   "execution_count": 6,
   "id": "2d638bdc-0cb0-4b33-a1bf-fc62d485a441",
   "metadata": {},
   "outputs": [
    {
     "data": {
      "text/plain": [
       "[Opel, BMW, Ford]"
      ]
     },
     "execution_count": 6,
     "metadata": {},
     "output_type": "execute_result"
    }
   ],
   "source": [
    "cars"
   ]
  },
  {
   "cell_type": "markdown",
   "id": "ba487aaa-2e6c-48a8-a3a8-b66fdc12eb58",
   "metadata": {},
   "source": [
    "## Clear whole array list"
   ]
  },
  {
   "cell_type": "code",
   "execution_count": 7,
   "id": "01da0f62-5f67-4cf0-ac48-c81141af440b",
   "metadata": {},
   "outputs": [],
   "source": [
    "cars.clear();"
   ]
  },
  {
   "cell_type": "code",
   "execution_count": 8,
   "id": "7338b869-d6b8-4130-b38c-decb70524581",
   "metadata": {},
   "outputs": [
    {
     "data": {
      "text/plain": [
       "[]"
      ]
     },
     "execution_count": 8,
     "metadata": {},
     "output_type": "execute_result"
    }
   ],
   "source": [
    "cars"
   ]
  },
  {
   "cell_type": "markdown",
   "id": "a5746839-f8c2-4648-aab3-319c26d5b836",
   "metadata": {},
   "source": [
    "## Loop through an array list"
   ]
  },
  {
   "cell_type": "code",
   "execution_count": 10,
   "id": "d7bc7889-63d8-4058-b201-fd7462fc3a1e",
   "metadata": {},
   "outputs": [
    {
     "name": "stdout",
     "output_type": "stream",
     "text": [
      "Volvo\n",
      "BMW\n",
      "Ford\n"
     ]
    }
   ],
   "source": [
    "for (String s : cars) {\n",
    "    System.out.println(s);\n",
    "}"
   ]
  },
  {
   "cell_type": "markdown",
   "id": "ea8f030b-ac7b-470a-bd50-f82830d401f9",
   "metadata": {},
   "source": [
    "## Sort an array list"
   ]
  },
  {
   "cell_type": "code",
   "execution_count": 12,
   "id": "9a04d773-26a5-452d-9249-6cd931d11545",
   "metadata": {},
   "outputs": [],
   "source": [
    "Collections.sort(cars);"
   ]
  },
  {
   "cell_type": "code",
   "execution_count": 13,
   "id": "5facd0c2-b10d-4506-98cd-fab45d225c51",
   "metadata": {},
   "outputs": [
    {
     "data": {
      "text/plain": [
       "[BMW, Ford, Volvo]"
      ]
     },
     "execution_count": 13,
     "metadata": {},
     "output_type": "execute_result"
    }
   ],
   "source": [
    "cars"
   ]
  }
 ],
 "metadata": {
  "kernelspec": {
   "display_name": "Java",
   "language": "java",
   "name": "java"
  },
  "language_info": {
   "codemirror_mode": "java",
   "file_extension": ".jshell",
   "mimetype": "text/x-java-source",
   "name": "Java",
   "pygments_lexer": "java",
   "version": "21.0.8+9-LTS"
  }
 },
 "nbformat": 4,
 "nbformat_minor": 5
}
