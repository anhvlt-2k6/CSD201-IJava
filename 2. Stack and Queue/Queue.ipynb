{
 "cells": [
  {
   "cell_type": "markdown",
   "id": "d5287b84-1f36-4496-af10-1836d459255f",
   "metadata": {},
   "source": [
    "# Queue\n",
    "\n",
    "In Java, Queue itself is just an interface. Therefore, it must be implemented with other classes to create objects (See in https://docs.oracle.com/javase/8/docs/api/java/util/Queue.html)\n",
    "\n",
    "Common queues of CSD201 are\n",
    "\n",
    "* Double-ended queue (`Deque`)\n",
    "* Priority Queues (`PriorityQueue`)\n",
    "* Circular Queue (with `Array[]`)"
   ]
  },
  {
   "cell_type": "markdown",
   "id": "331e9618-f288-4590-b1ee-5b5d709268fb",
   "metadata": {},
   "source": [
    "## Circular Queue\n",
    "\n",
    "A circular queue is a linear data structure that overcomes the limitations of a simple queue. \n",
    "\n",
    "In a normal array implementation, `dequeue()` can be O(n) or we may waste space. Using a circular array, both `enqueue()` and `dequeue()` can be done in O(1)"
   ]
  },
  {
   "cell_type": "code",
   "execution_count": 2,
   "id": "46b264f0-c805-4b1d-a9c5-35fafa03a1ce",
   "metadata": {},
   "outputs": [],
   "source": [
    "class circularQueue {\n",
    "    \n",
    "    // Fixed-size array to store queue elements\n",
    "    private int[] arr;\n",
    "\n",
    "    // Index of the front element\n",
    "    private int front;\n",
    "\n",
    "    // Current number of elements in the queue\n",
    "    private int size;\n",
    "\n",
    "    // Maximum capacity of the queue\n",
    "    private int capacity;\n",
    "\n",
    "    // Constructor to initialize the queue with given capacity\n",
    "    public circularQueue(int cap) {\n",
    "        capacity = cap;\n",
    "        arr = new int[capacity]; \n",
    "        front = 0;\n",
    "        size = 0;\n",
    "    }\n",
    "    \n",
    "    // Get the rear element\n",
    "    public int getRear() {\n",
    "        if (size == 0)\n",
    "            return -1;  \n",
    "        int rear = (front + size - 1) % capacity;\n",
    "        return arr[rear];\n",
    "    }\n",
    "\n",
    "    // Get the front element\n",
    "    public int getFront() {\n",
    "        if (size == 0)\n",
    "            return -1;   \n",
    "        return arr[front];\n",
    "    }\n",
    "\n",
    "    // Insert an element at the rear\n",
    "    public void enqueue(int x) {\n",
    "        if (size == capacity) {\n",
    "            System.out.println(\"Queue is full!\");\n",
    "            return;\n",
    "        }\n",
    "        int rear = (front + size) % capacity;\n",
    "        arr[rear] = x;\n",
    "        size++;\n",
    "    }\n",
    "\n",
    "    // Remove an element from the front\n",
    "    public int dequeue() {\n",
    "        if (size == 0) {\n",
    "            System.out.println(\"Queue is empty!\");\n",
    "            return -1;\n",
    "        }\n",
    "        int res = arr[front];\n",
    "        front = (front + 1) % capacity;\n",
    "        size--;\n",
    "        return res;\n",
    "    }\n",
    "}"
   ]
  },
  {
   "cell_type": "code",
   "execution_count": 4,
   "id": "368ae720-d9e1-43ff-9ca5-bf8e37568fc4",
   "metadata": {},
   "outputs": [
    {
     "name": "stdout",
     "output_type": "stream",
     "text": [
      "10 30\n",
      "20 30\n",
      "20 40\n"
     ]
    }
   ],
   "source": [
    "circularQueue q = new circularQueue(5);\n",
    "q.enqueue(10);\n",
    "q.enqueue(20);\n",
    "q.enqueue(30);\n",
    "System.out.println(q.getFront() + \" \" + q.getRear());\n",
    "q.dequeue();\n",
    "System.out.println(q.getFront() + \" \" + q.getRear());\n",
    "q.enqueue(40);\n",
    "System.out.println(q.getFront() + \" \" + q.getRear());"
   ]
  },
  {
   "cell_type": "markdown",
   "id": "bb8d69b6-3745-4408-9d4b-f0285651175e",
   "metadata": {},
   "source": [
    "## Double-ended Queue\n",
    "\n",
    "A Deque (double-ended queue) allows adding or removing elements from both ends and can work as either a **FIFO queue** or a **LIFO stack**. (See in https://docs.oracle.com/javase/8/docs/api/java/util/ArrayDeque.html)\n",
    "\n",
    "1. **Supports FIFO and LIFO**: Can function as a queue (FIFO) or a stack (LIFO).\n",
    "2. **No Capacity Restriction (for most implementations)**: Classes like ArrayDeque grow automatically as needed.\n",
    "3. **More Versatile than Queue**: Provides extra methods like `addFirst()`, `addLast()`, `peekFirst()`, `peekLast()`.\n",
    "4. **Efficient Insert/Remove at Both Ends**: Constant-time performance for add/remove operations at either end in most implementations.\n",
    "s.\r\n"
   ]
  },
  {
   "cell_type": "code",
   "execution_count": 6,
   "id": "358ec851-5b32-498c-8ae5-94755e3f9eff",
   "metadata": {},
   "outputs": [],
   "source": [
    "Deque<Integer> dequeue = new ArrayDeque<>();"
   ]
  },
  {
   "cell_type": "code",
   "execution_count": 7,
   "id": "b4b7a43d-72d1-49f1-a8f7-1173c450f11d",
   "metadata": {},
   "outputs": [],
   "source": [
    "dequeue.addFirst(1);\n",
    "dequeue.addFirst(2);\n",
    "dequeue.addFirst(3);\n",
    "dequeue.addFirst(4);"
   ]
  },
  {
   "cell_type": "code",
   "execution_count": 8,
   "id": "627a6466-2bd4-4ea2-b634-97ffaa9ff031",
   "metadata": {},
   "outputs": [
    {
     "data": {
      "text/plain": [
       "[4, 3, 2, 1]"
      ]
     },
     "execution_count": 8,
     "metadata": {},
     "output_type": "execute_result"
    }
   ],
   "source": [
    "dequeue"
   ]
  },
  {
   "cell_type": "markdown",
   "id": "80379e49-8161-4979-8b6b-0d9f8229b365",
   "metadata": {},
   "source": [
    "## Priority Queue\n",
    "\n",
    "A `PriorityQueue` in Java is a queue where elements are ordered based on their priority, rather than the order of insertion. By default, it uses natural ordering (min-heap), but a custom comparator can be used to define different priorities.\r\n",
    "\n"
   ]
  },
  {
   "cell_type": "code",
   "execution_count": 9,
   "id": "cbe06d5f-380c-410d-8f48-f1e678396738",
   "metadata": {},
   "outputs": [],
   "source": [
    "PriorityQueue<Integer> pqueue = new PriorityQueue<>();"
   ]
  },
  {
   "cell_type": "code",
   "execution_count": 10,
   "id": "34f6af8a-502e-4585-9491-caba76bd1c2a",
   "metadata": {},
   "outputs": [
    {
     "data": {
      "text/plain": [
       "true"
      ]
     },
     "execution_count": 10,
     "metadata": {},
     "output_type": "execute_result"
    }
   ],
   "source": [
    "pqueue.add(1);\n",
    "pqueue.add(2);\n",
    "pqueue.add(3);\n",
    "pqueue.add(4);"
   ]
  },
  {
   "cell_type": "code",
   "execution_count": 11,
   "id": "1d038198-085e-4176-95f1-039469c7d502",
   "metadata": {},
   "outputs": [
    {
     "data": {
      "text/plain": [
       "[1, 2, 3, 4]"
      ]
     },
     "execution_count": 11,
     "metadata": {},
     "output_type": "execute_result"
    }
   ],
   "source": [
    "pqueue"
   ]
  }
 ],
 "metadata": {
  "kernelspec": {
   "display_name": "Java",
   "language": "java",
   "name": "java"
  },
  "language_info": {
   "codemirror_mode": "java",
   "file_extension": ".jshell",
   "mimetype": "text/x-java-source",
   "name": "Java",
   "pygments_lexer": "java",
   "version": "21.0.8+9-LTS"
  }
 },
 "nbformat": 4,
 "nbformat_minor": 5
}
